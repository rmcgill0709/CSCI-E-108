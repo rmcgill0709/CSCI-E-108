{
 "cells": [
  {
   "cell_type": "markdown",
   "id": "c3dc0d52",
   "metadata": {},
   "source": [
    "## Review of Linear Algebra\n",
    "\n",
    "This notebook contains some simple examples applying Numpy to simple linear algebra problems includeing eigendecomposition. \n",
    "\n",
    "### Example for simple 2x2 matrix"
   ]
  },
  {
   "cell_type": "code",
   "execution_count": 1,
   "id": "d2bb548f",
   "metadata": {},
   "outputs": [
    {
     "data": {
      "text/plain": [
       "array([[1, 3],\n",
       "       [3, 1]])"
      ]
     },
     "execution_count": 1,
     "metadata": {},
     "output_type": "execute_result"
    }
   ],
   "source": [
    "import numpy as np\n",
    "import numpy.random as nr\n",
    "import matplotlib.pyplot as plt\n",
    "%matplotlib inline\n",
    "\n",
    "A = np.array([[1,3], [3, 1]])\n",
    "A"
   ]
  },
  {
   "cell_type": "code",
   "execution_count": 2,
   "id": "3ef3324a",
   "metadata": {},
   "outputs": [
    {
     "name": "stdout",
     "output_type": "stream",
     "text": [
      "[[ 4.  0.]\n",
      " [ 0. -2.]]\n",
      "[[ 0.70710678 -0.70710678]\n",
      " [ 0.70710678  0.70710678]]\n"
     ]
    }
   ],
   "source": [
    "## Eigendecomposition\n",
    "eigs, Q = np.linalg.eig(A)\n",
    "print(np.diag(eigs))\n",
    "print(Q)"
   ]
  },
  {
   "cell_type": "code",
   "execution_count": 3,
   "id": "2c9743d5",
   "metadata": {},
   "outputs": [
    {
     "name": "stdout",
     "output_type": "stream",
     "text": [
      "[[ 0.70710678  0.70710678]\n",
      " [-0.70710678  0.70710678]]\n",
      "[[1.00000000e+00 1.11022302e-16]\n",
      " [0.00000000e+00 1.00000000e+00]]\n"
     ]
    }
   ],
   "source": [
    "## Check that Q is unitary and orthogonal   \n",
    "Q_inv = np.linalg.inv(Q)\n",
    "print(Q_inv)\n",
    "print(np.dot(Q, Q_inv))"
   ]
  },
  {
   "cell_type": "code",
   "execution_count": 4,
   "id": "11476935",
   "metadata": {},
   "outputs": [
    {
     "data": {
      "text/plain": [
       "array([[1., 3.],\n",
       "       [3., 1.]])"
      ]
     },
     "execution_count": 4,
     "metadata": {},
     "output_type": "execute_result"
    }
   ],
   "source": [
    "## Reconstruct the matrix from eigendecomponsition \n",
    "np.dot(Q, np.dot(np.diag(eigs), np.transpose(Q)))"
   ]
  },
  {
   "cell_type": "code",
   "execution_count": 5,
   "id": "2a76d81e",
   "metadata": {},
   "outputs": [
    {
     "data": {
      "text/plain": [
       "1.999999999999999"
      ]
     },
     "execution_count": 5,
     "metadata": {},
     "output_type": "execute_result"
    }
   ],
   "source": [
    "## Compute the conditon number\n",
    "Cond_num = abs(eigs[0]/eigs[1])\n",
    "Cond_num"
   ]
  },
  {
   "cell_type": "code",
   "execution_count": 6,
   "id": "5ad8f042",
   "metadata": {},
   "outputs": [
    {
     "data": {
      "text/plain": [
       "array([[ 1., -3.],\n",
       "       [-3.,  1.]])"
      ]
     },
     "execution_count": 6,
     "metadata": {},
     "output_type": "execute_result"
    }
   ],
   "source": [
    "## Find the inverse\n",
    "A_inv = np.dot(np.transpose(Q), np.dot(np.diag(eigs), Q))\n",
    "A_inv"
   ]
  },
  {
   "cell_type": "code",
   "execution_count": 7,
   "id": "0195f341",
   "metadata": {},
   "outputs": [
    {
     "name": "stdout",
     "output_type": "stream",
     "text": [
      "[[-1.00000000e+00 -1.11022302e-16]\n",
      " [-4.99600361e-16 -1.00000000e+00]]\n",
      "\n",
      "\n",
      "[[-1.00000000e+00 -4.99600361e-16]\n",
      " [-1.11022302e-16 -1.00000000e+00]]\n"
     ]
    }
   ],
   "source": [
    "## Test the inverse   \n",
    "print(np.dot(A,A_inv/8))\n",
    "print('\\n')\n",
    "print(np.dot(A_inv,A)/8)"
   ]
  },
  {
   "cell_type": "markdown",
   "id": "bc01105b",
   "metadata": {},
   "source": [
    "### Eigenvalues and Rank"
   ]
  },
  {
   "cell_type": "code",
   "execution_count": 8,
   "id": "d5cdfcaa",
   "metadata": {
    "scrolled": true
   },
   "outputs": [
    {
     "name": "stdout",
     "output_type": "stream",
     "text": [
      "[[ 3 -3  6]\n",
      " [ 2 -2  4]\n",
      " [ 1 -1  2]]\n"
     ]
    }
   ],
   "source": [
    "B = np.array([[3,-3,6],\n",
    "            [2,-2,4],\n",
    "            [1, -1, 2]])\n",
    "print(B)"
   ]
  },
  {
   "cell_type": "code",
   "execution_count": 9,
   "id": "aa32c6e8",
   "metadata": {
    "scrolled": true
   },
   "outputs": [
    {
     "name": "stdout",
     "output_type": "stream",
     "text": [
      "[ 3.00000000e+00  5.23364153e-16 -6.00567308e-17]\n",
      "\n",
      "\n",
      "[[ 8.01783726e-01  1.03168406e-16 -8.26172899e-01]\n",
      " [ 5.34522484e-01 -8.94427191e-01  2.15213587e-01]\n",
      " [ 2.67261242e-01 -4.47213595e-01  5.20693243e-01]]\n"
     ]
    }
   ],
   "source": [
    "## Eigenvalues near 0\n",
    "B_eigs, B_Q = np.linalg.eig(B)\n",
    "print(B_eigs)\n",
    "print('\\n')\n",
    "print(B_Q)"
   ]
  },
  {
   "cell_type": "code",
   "execution_count": 10,
   "id": "56caa686",
   "metadata": {},
   "outputs": [
    {
     "name": "stdout",
     "output_type": "stream",
     "text": [
      "4.995E+16\n"
     ]
    }
   ],
   "source": [
    "## Large condition number   \n",
    "Cond_num = abs(B_eigs[0]/B_eigs[2])\n",
    "print('{0:4.3E}'.format(Cond_num))"
   ]
  },
  {
   "cell_type": "code",
   "execution_count": 11,
   "id": "bbefae57",
   "metadata": {},
   "outputs": [
    {
     "data": {
      "text/plain": [
       "array([[0.21428571, 0.14285714, 0.07142857],\n",
       "       [0.14285714, 0.0952381 , 0.04761905],\n",
       "       [0.07142857, 0.04761905, 0.02380952]])"
      ]
     },
     "execution_count": 11,
     "metadata": {},
     "output_type": "execute_result"
    }
   ],
   "source": [
    "## Cannot reconstruct matrix\n",
    "np.dot(B_Q, np.dot(np.diag(B_eigs), np.transpose(B_Q)))/9"
   ]
  },
  {
   "cell_type": "code",
   "execution_count": 12,
   "id": "487fd5f7",
   "metadata": {},
   "outputs": [
    {
     "name": "stdout",
     "output_type": "stream",
     "text": [
      "[[ 3.33333333e-01  0.00000000e+00  0.00000000e+00]\n",
      " [ 0.00000000e+00  1.91071550e+15  0.00000000e+00]\n",
      " [-0.00000000e+00 -0.00000000e+00 -1.66509230e+16]]\n",
      "\n",
      "\n"
     ]
    },
    {
     "data": {
      "text/plain": [
       "array([[-7.14925475e+13,  1.19629913e+14, -2.33039901e+14],\n",
       "       [ 1.19629913e+14, -2.00179133e+14,  3.89950340e+14],\n",
       "       [-2.33039901e+14,  3.89950340e+14, -4.91769338e+14]])"
      ]
     },
     "execution_count": 12,
     "metadata": {},
     "output_type": "execute_result"
    }
   ],
   "source": [
    "## Inverse is not stable\n",
    "inv_B_eigs = np.linalg.inv(np.diag(B_eigs))\n",
    "print(inv_B_eigs)\n",
    "print('\\n')\n",
    "np.dot(np.transpose(B_Q),(np.dot(inv_B_eigs, B_Q)))/9"
   ]
  },
  {
   "cell_type": "markdown",
   "id": "07fd90da",
   "metadata": {},
   "source": [
    "### Example with Data"
   ]
  },
  {
   "cell_type": "code",
   "execution_count": 13,
   "id": "072b986a",
   "metadata": {},
   "outputs": [
    {
     "data": {
      "text/plain": [
       "Text(0.5, 1.0, 'Sample data')"
      ]
     },
     "execution_count": 13,
     "metadata": {},
     "output_type": "execute_result"
    },
    {
     "data": {
      "image/png": "[encoded data removed]",
      "text/plain": [
       "<Figure size 640x480 with 1 Axes>"
      ]
     },
     "metadata": {},
     "output_type": "display_data"
    }
   ],
   "source": [
    "nr.seed(124)\n",
    "cov = np.array([[1.0, 0.6], [0.6, 1.0]])\n",
    "mean = np.array([0.0, 0.0])\n",
    "\n",
    "sample = nr.multivariate_normal(mean, cov, 100)\n",
    "\n",
    "plt.scatter(sample[:,0], sample[:,1])\n",
    "plt.xlabel('Dimension 1')\n",
    "plt.ylabel('Dimension 2')\n",
    "plt.title('Sample data')"
   ]
  },
  {
   "cell_type": "code",
   "execution_count": 14,
   "id": "679e1b4e",
   "metadata": {},
   "outputs": [
    {
     "data": {
      "text/plain": [
       "array([[40.504917  , 32.86396054],\n",
       "       [32.86396054, 58.31290287]])"
      ]
     },
     "execution_count": 14,
     "metadata": {},
     "output_type": "execute_result"
    }
   ],
   "source": [
    "## Compute the covariance \n",
    "cov_sample = 0.5 * np.dot(np.transpose(sample), sample)\n",
    "cov_sample"
   ]
  },
  {
   "cell_type": "code",
   "execution_count": 15,
   "id": "342a458e",
   "metadata": {},
   "outputs": [
    {
     "name": "stdout",
     "output_type": "stream",
     "text": [
      "[15.36010683 83.45771303]\n",
      "\n",
      "\n",
      "[[-0.79419984 -0.60765665]\n",
      " [ 0.60765665 -0.79419984]]\n",
      "\n",
      "The condition number =   5.43\n"
     ]
    }
   ],
   "source": [
    "## Eigendecomposition of covariance  \n",
    "sample_eigs, sample_Q = np.linalg.eig(cov_sample)\n",
    "print(sample_eigs)\n",
    "print('\\n')\n",
    "print(sample_Q)\n",
    "print('\\nThe condition number = {0:6.3}'.format(sample_eigs[1]/sample_eigs[0]))"
   ]
  },
  {
   "cell_type": "code",
   "execution_count": 16,
   "id": "edca9930",
   "metadata": {},
   "outputs": [
    {
     "data": {
      "text/plain": [
       "Text(0.5, 1.0, 'Sample data')"
      ]
     },
     "execution_count": 16,
     "metadata": {},
     "output_type": "execute_result"
    },
    {
     "data": {
      "image/png": "[encoded data removed]",
      "text/plain": [
       "<Figure size 640x480 with 1 Axes>"
      ]
     },
     "metadata": {},
     "output_type": "display_data"
    }
   ],
   "source": [
    "## Increase ccolinearity of variables \n",
    "nr.seed(124)\n",
    "cov = np.array([[1.0, 0.995], [0.995, 1.0]])\n",
    "mean = np.array([0.0, 0.0])\n",
    "\n",
    "sample2 = nr.multivariate_normal(mean, cov, 100)\n",
    "\n",
    "plt.scatter(sample2[:,0], sample2[:,1])\n",
    "plt.xlabel('Dimension 1')\n",
    "plt.ylabel('Dimension 2')\n",
    "plt.title('Sample data')"
   ]
  },
  {
   "cell_type": "code",
   "execution_count": 17,
   "id": "5e2b0ff5",
   "metadata": {},
   "outputs": [
    {
     "name": "stdout",
     "output_type": "stream",
     "text": [
      "\n",
      "\n",
      "[ 0.04868588 25.64901343]\n",
      "\n",
      "\n",
      "[[-0.71474149 -0.69938873]\n",
      " [ 0.69938873 -0.71474149]]\n",
      "\n",
      "The condition number = 5.27e+02\n"
     ]
    }
   ],
   "source": [
    "## Compute covariance and eigendecompositon   \n",
    "cov_sample2 = 0.5 * np.dot(np.transpose(sample2), sample2)/4\n",
    "cov_sample2\n",
    "print('\\n')\n",
    "sample2_eigs, sample2_Q = np.linalg.eig(cov_sample2)\n",
    "print(sample2_eigs)\n",
    "print('\\n')\n",
    "print(sample2_Q)\n",
    "print('\\nThe condition number = {0:6.3}'.format(sample2_eigs[1]/sample2_eigs[0]))"
   ]
  },
  {
   "cell_type": "code",
   "execution_count": null,
   "id": "311626ca",
   "metadata": {},
   "outputs": [],
   "source": []
  }
 ],
 "metadata": {
  "kernelspec": {
   "display_name": "Python 3 (ipykernel)",
   "language": "python",
   "name": "python3"
  },
  "language_info": {
   "codemirror_mode": {
    "name": "ipython",
    "version": 3
   },
   "file_extension": ".py",
   "mimetype": "text/x-python",
   "name": "python",
   "nbconvert_exporter": "python",
   "pygments_lexer": "ipython3",
   "version": "3.9.13"
  }
 },
 "nbformat": 4,
 "nbformat_minor": 5
}
