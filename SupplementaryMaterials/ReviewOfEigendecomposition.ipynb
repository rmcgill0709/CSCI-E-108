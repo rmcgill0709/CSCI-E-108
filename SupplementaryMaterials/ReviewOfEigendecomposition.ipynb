{
 "cells": [
  {
   "cell_type": "markdown",
   "id": "c3dc0d52",
   "metadata": {},
   "source": [
    "## Review of Linear Algebra\n",
    "\n",
    "This notebook contains some simple examples applying Numpy to simple linear algebra problems includeing eigendecomposition. \n",
    "\n",
    "### Example for simple 2x2 matrix"
   ]
  },
  {
   "cell_type": "code",
   "execution_count": null,
   "id": "d2bb548f",
   "metadata": {},
   "outputs": [],
   "source": [
    "import numpy as np\n",
    "import numpy.random as nr\n",
    "import matplotlib.pyplot as plt\n",
    "from itertools import combinations\n",
    "%matplotlib inline\n",
    "\n",
    "A = np.array([[1,3], [3, 1]])\n",
    "A"
   ]
  },
  {
   "cell_type": "code",
   "execution_count": null,
   "id": "3ef3324a",
   "metadata": {},
   "outputs": [],
   "source": [
    "## Eigendecomposition\n",
    "eigs, Q = np.linalg.eig(A)\n",
    "print(np.diag(eigs))\n",
    "print(Q)"
   ]
  },
  {
   "cell_type": "code",
   "execution_count": null,
   "id": "2c9743d5",
   "metadata": {},
   "outputs": [],
   "source": [
    "## Check that Q is unitary and orthogonal   \n",
    "print('Euclidean norm of rows of Q')\n",
    "print(np.linalg.norm(Q, axis=1)) \n",
    "print('\\nEuclidean norm of columns of Q')\n",
    "print(np.linalg.norm(Q, axis=0))"
   ]
  },
  {
   "cell_type": "code",
   "execution_count": null,
   "id": "bbe05ac1",
   "metadata": {},
   "outputs": [],
   "source": [
    "## Check that Q orthogonal   \n",
    "combs = combinations(range(Q.shape[0]), 2)\n",
    "print('Any non-orthogonal rows? ' + str(np.any([np.dot(Q[i,:],Q[j,:]) for i, j in combs])))\n",
    "print('Any non-orthogonal columns? ' + str(np.any([np.dot(Q[:,i],Q[:,j]) for i, j in combs])))"
   ]
  },
  {
   "cell_type": "code",
   "execution_count": null,
   "id": "a84ca6d9",
   "metadata": {},
   "outputs": [],
   "source": [
    "np.dot(Q[:,0],Q[:,1])"
   ]
  },
  {
   "cell_type": "code",
   "execution_count": null,
   "id": "8657a300",
   "metadata": {},
   "outputs": [],
   "source": [
    "np.dot(Q[0,:],Q[1,:])"
   ]
  },
  {
   "cell_type": "code",
   "execution_count": null,
   "id": "11476935",
   "metadata": {},
   "outputs": [],
   "source": [
    "## Reconstruct the matrix from eigendecomponsition \n",
    "np.dot(Q, np.dot(np.diag(eigs), np.transpose(Q)))"
   ]
  },
  {
   "cell_type": "code",
   "execution_count": null,
   "id": "2a76d81e",
   "metadata": {},
   "outputs": [],
   "source": [
    "## Compute the conditon number\n",
    "Cond_num = abs(eigs[0]/eigs[1])\n",
    "Cond_num"
   ]
  },
  {
   "cell_type": "code",
   "execution_count": null,
   "id": "5ad8f042",
   "metadata": {},
   "outputs": [],
   "source": [
    "## Find the inverse\n",
    "A_inv = np.dot(np.transpose(Q), np.dot(np.diag(eigs), Q))\n",
    "A_inv"
   ]
  },
  {
   "cell_type": "code",
   "execution_count": null,
   "id": "0195f341",
   "metadata": {},
   "outputs": [],
   "source": [
    "## Test the inverse   \n",
    "print(np.dot(A,A_inv/8))\n",
    "print('\\n')\n",
    "print(np.dot(A_inv,A)/8)"
   ]
  },
  {
   "cell_type": "markdown",
   "id": "bc01105b",
   "metadata": {},
   "source": [
    "### Eigenvalues and Rank"
   ]
  },
  {
   "cell_type": "code",
   "execution_count": null,
   "id": "d5cdfcaa",
   "metadata": {
    "scrolled": true
   },
   "outputs": [],
   "source": [
    "B = np.array([[3,-3,6],\n",
    "            [2,-2,4],\n",
    "            [1, -1, 2]])\n",
    "print(B)"
   ]
  },
  {
   "cell_type": "code",
   "execution_count": null,
   "id": "aa32c6e8",
   "metadata": {
    "scrolled": true
   },
   "outputs": [],
   "source": [
    "## Eigenvalues near 0\n",
    "B_eigs, B_Q = np.linalg.eig(B)\n",
    "print(B_eigs)\n",
    "print('\\n')\n",
    "print(B_Q)"
   ]
  },
  {
   "cell_type": "code",
   "execution_count": null,
   "id": "56caa686",
   "metadata": {},
   "outputs": [],
   "source": [
    "## Large condition number   \n",
    "Cond_num = abs(B_eigs[0]/B_eigs[2])\n",
    "print('{0:4.3E}'.format(Cond_num))"
   ]
  },
  {
   "cell_type": "code",
   "execution_count": null,
   "id": "bbefae57",
   "metadata": {},
   "outputs": [],
   "source": [
    "## Cannot reconstruct matrix\n",
    "np.dot(B_Q, np.dot(np.diag(B_eigs), np.transpose(B_Q)))/9"
   ]
  },
  {
   "cell_type": "code",
   "execution_count": null,
   "id": "487fd5f7",
   "metadata": {},
   "outputs": [],
   "source": [
    "## Inverse is not stable\n",
    "inv_B_eigs = np.linalg.inv(np.diag(B_eigs))\n",
    "print(inv_B_eigs)\n",
    "print('\\n')\n",
    "np.dot(np.transpose(B_Q),(np.dot(inv_B_eigs, B_Q)))/9"
   ]
  },
  {
   "cell_type": "markdown",
   "id": "07fd90da",
   "metadata": {},
   "source": [
    "### Example with Data"
   ]
  },
  {
   "cell_type": "code",
   "execution_count": null,
   "id": "072b986a",
   "metadata": {},
   "outputs": [],
   "source": [
    "nr.seed(124)\n",
    "cov = np.array([[1.0, 0.6], [0.6, 1.0]])\n",
    "mean = np.array([0.0, 0.0])\n",
    "\n",
    "sample = nr.multivariate_normal(mean, cov, 100)\n",
    "\n",
    "plt.scatter(sample[:,0], sample[:,1])\n",
    "plt.xlabel('Dimension 1')\n",
    "plt.ylabel('Dimension 2')\n",
    "plt.title('Sample data')"
   ]
  },
  {
   "cell_type": "code",
   "execution_count": null,
   "id": "679e1b4e",
   "metadata": {},
   "outputs": [],
   "source": [
    "## Compute the covariance \n",
    "cov_sample = 0.5 * np.dot(np.transpose(sample), sample)\n",
    "cov_sample"
   ]
  },
  {
   "cell_type": "code",
   "execution_count": null,
   "id": "342a458e",
   "metadata": {},
   "outputs": [],
   "source": [
    "## Eigendecomposition of covariance  \n",
    "sample_eigs, sample_Q = np.linalg.eig(cov_sample)\n",
    "print(sample_eigs)\n",
    "print('\\n')\n",
    "print(sample_Q)\n",
    "print('\\nThe condition number = {0:6.3}'.format(sample_eigs[1]/sample_eigs[0]))"
   ]
  },
  {
   "cell_type": "code",
   "execution_count": null,
   "id": "79d67d14",
   "metadata": {},
   "outputs": [],
   "source": [
    "## Reconstruct the covariance matrix   \n",
    "np.dot(sample_Q, np.dot(np.diag(sample_eigs), np.transpose(sample_Q)))"
   ]
  },
  {
   "cell_type": "code",
   "execution_count": null,
   "id": "e2ae0e99",
   "metadata": {},
   "outputs": [],
   "source": [
    "## Find and test the inverse   \n",
    "inv_B_eigs = np.linalg.inv(np.diag(sample_eigs))\n",
    "print(inv_B_eigs)\n",
    "print('\\nInverse Convariance matrix')\n",
    "inv_covariance = np.dot(sample_Q,(np.dot(inv_B_eigs, np.transpose(sample_Q))))\n",
    "print(inv_covariance)\n",
    "print('\\nProduct of inverse and covariance matrix')\n",
    "print(np.dot(inv_covariance, cov_sample))"
   ]
  },
  {
   "cell_type": "code",
   "execution_count": null,
   "id": "edca9930",
   "metadata": {},
   "outputs": [],
   "source": [
    "## Increase colinearity of variables \n",
    "nr.seed(124)\n",
    "cov = np.array([[1.0, 0.995], [0.995, 1.0]])\n",
    "mean = np.array([0.0, 0.0])\n",
    "\n",
    "sample2 = nr.multivariate_normal(mean, cov, 100)\n",
    "\n",
    "plt.scatter(sample2[:,0], sample2[:,1])\n",
    "plt.xlabel('Dimension 1')\n",
    "plt.ylabel('Dimension 2')\n",
    "plt.title('Sample data')"
   ]
  },
  {
   "cell_type": "code",
   "execution_count": null,
   "id": "5e2b0ff5",
   "metadata": {},
   "outputs": [],
   "source": [
    "## Compute covariance and eigendecompositon   \n",
    "cov_sample2 = 0.5 * np.dot(np.transpose(sample2), sample2)/4\n",
    "cov_sample2\n",
    "print('\\n')\n",
    "sample2_eigs, sample2_Q = np.linalg.eig(cov_sample2)\n",
    "print(sample2_eigs)\n",
    "print('\\n')\n",
    "print(sample2_Q)\n",
    "print('\\nThe condition number = {0:6.3}'.format(sample2_eigs[1]/sample2_eigs[0]))"
   ]
  },
  {
   "cell_type": "code",
   "execution_count": null,
   "id": "311626ca",
   "metadata": {},
   "outputs": [],
   "source": [
    "## Find and test the inverse   \n",
    "inv_B_eigs2 = np.linalg.inv(np.diag(sample2_eigs))\n",
    "print(inv_B_eigs2)\n",
    "print('\\nInverse Convariance matrix')\n",
    "inv_covariance2 = np.dot(sample2_Q,(np.dot(inv_B_eigs2, np.transpose(sample2_Q))))\n",
    "print(inv_covariance2)\n",
    "print('\\nProduct of inverse and covariance matrix')\n",
    "print(np.dot(inv_covariance2, cov_sample2))"
   ]
  },
  {
   "cell_type": "markdown",
   "id": "021f8470",
   "metadata": {},
   "source": [
    "## Singlular Value Decomposition (SVD)  "
   ]
  },
  {
   "cell_type": "code",
   "execution_count": null,
   "id": "8f5256b2",
   "metadata": {
    "scrolled": false
   },
   "outputs": [],
   "source": [
    "## SVD decomposition of sample  \n",
    "U, S, V = np.linalg.svd(sample2)\n",
    "U = U[:,:2]\n",
    "print('U')\n",
    "print(U)\n",
    "print('Dimensions of U = ' + str(U.shape))\n",
    "print('\\nS')\n",
    "print(np.diag(S))\n",
    "print('\\nV')\n",
    "print(V)"
   ]
  },
  {
   "cell_type": "code",
   "execution_count": null,
   "id": "319c865c",
   "metadata": {},
   "outputs": [],
   "source": [
    "## How good is the reconstruction? \n",
    "sample2_reconstructed = np.dot(U, np.dot(np.diag(S), V))\n",
    "print(\"Dimensions of reconstruction = \" + str(sample2_reconstructed.shape))\n",
    "print(\"Norm of difference with reconstructed matrix = \" + str(np.linalg.norm(sample2 - sample2_reconstructed)))"
   ]
  },
  {
   "cell_type": "code",
   "execution_count": null,
   "id": "42aae540",
   "metadata": {},
   "outputs": [],
   "source": [
    "## Test inverse of decompostion\n",
    "S_inverse = np.diag([1/s for s in S])\n",
    "sample2_svd_inverse = np.dot(V, np.dot(S_inverse, np.transpose(U)))\n",
    "np.dot(sample2_svd_inverse, sample2)"
   ]
  },
  {
   "cell_type": "code",
   "execution_count": null,
   "id": "d2eab74c",
   "metadata": {},
   "outputs": [],
   "source": []
  }
 ],
 "metadata": {
  "kernelspec": {
   "display_name": "Python 3 (ipykernel)",
   "language": "python",
   "name": "python3"
  },
  "language_info": {
   "codemirror_mode": {
    "name": "ipython",
    "version": 3
   },
   "file_extension": ".py",
   "mimetype": "text/x-python",
   "name": "python",
   "nbconvert_exporter": "python",
   "pygments_lexer": "ipython3",
   "version": "3.9.13"
  }
 },
 "nbformat": 4,
 "nbformat_minor": 5
}
