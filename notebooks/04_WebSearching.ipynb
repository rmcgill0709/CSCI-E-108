{
 "cells": [
  {
   "cell_type": "markdown",
   "id": "967b4d75",
   "metadata": {},
   "source": [
    "# Assignment 04\n",
    "## Web Search\n",
    "## CSCI S-96    \n",
    "\n",
    "> **Instructions:** For this assignment you will complete the exercises shown. Most exercises involve creating and executing some Python code. Additionally, most exercises have questions for you to answer. You can answer questions by creating a Markdown cell and writing your answer. If you are not familiar with Markdown, you can find a brief tutorial [here](https://www.markdownguide.org/cheat-sheet/).     \n",
    "\n",
    "In this assignment you will gain some experience and insight into how web search algorithms work. Specifically, you will implement versions of three algorithms, simple PageRank, PageRank with damping, and the HITS algorithm. All three of these algorithms use a **directed graph model** of the web.   \n",
    "\n",
    "The small scale data examples and coding methods used here are not directly scalable to web sized problems. Rather, the point is for you to understand the basic characteristics of these web search algorithms. Web scale searching requires massive resources not readily available to most people. "
   ]
  },
  {
   "cell_type": "markdown",
   "id": "c4218530",
   "metadata": {},
   "source": [
    "## Simple PageRank Example\n",
    "\n",
    "To get a feeling for the basics of the PageRank algorithm you will create and test simple code. \n",
    "\n",
    "As a first step, execute the code in the cell below to import the packages you will need for the exercises. "
   ]
  },
  {
   "cell_type": "code",
   "execution_count": 1,
   "id": "60a1d748",
   "metadata": {},
   "outputs": [],
   "source": [
    "import numpy as np"
   ]
  },
  {
   "cell_type": "markdown",
   "id": "320e8bbe",
   "metadata": {},
   "source": [
    "### Directed Graph of Web Pages\n",
    "\n",
    "We will start with a simple example. Figure 1 shows a set of web pages and their hyperlinks. This is a **directed graph** with the **pages as nodes** and the **hyperlinks as the directed edges**. This graph is **complete**. Every page is accessible from any other page, possibly with visits to intermediate nodes required.  \n",
    "\n",
    "<img src=\"../images/Web1.png\" alt=\"Drawing\" style=\"width:500px; height:400px\"/>\n",
    "<center>Figure 1: A small set of web pages</center>\n",
    "\n",
    "The directed edges of the graph define the association between the nodes. For the **association matrix**, a directed edge, or hyperlink, runs from a node's column to the terminal node's row. The association is binary. The directed edge either exists or it does not. "
   ]
  },
  {
   "cell_type": "markdown",
   "id": "af1a3f1b",
   "metadata": {},
   "source": [
    "> **Exercise 04-1:** In the cell below you will create the association matrix and the initial page probability vector. Do the following:  \n",
    "> 1. Create the association matrix, $A$, using [numpy.array](https://numpy.org/doc/stable/reference/generated/numpy.array.html). This matrix is constructed with a 1 where a page in a column has a directed edge linking to another page, and 0 elsewhere. In matrix notation, the element $a_{i,j}$ indicates the presence or absence of a directed edge from node $n_j$ to node $n_i$.   \n",
    "> 2. Print the shape of your association matrix as a check.\n",
    "> 3. Print the in degree and out degree of each node in your association matrix, using [numpy.sum](https://numpy.org/doc/stable/reference/generated/numpy.sum.html). Set the argument `axis` to 1 to sum across rows and 0 to sum down columns. "
   ]
  },
  {
   "cell_type": "code",
   "execution_count": 2,
   "id": "78bcdbf0",
   "metadata": {},
   "outputs": [
    {
     "name": "stdout",
     "output_type": "stream",
     "text": [
      "Shape of association matrix = (5, 5)\n",
      "In degree of nodes = [2 1 1 4 3]\n",
      "Out degree of nodes = [3 3 2 2 1]\n"
     ]
    }
   ],
   "source": [
    "## Create the Association Matrix and print the summary\n",
    "## Put your code below\n",
    "\n",
    "\n",
    "\n",
    "\n",
    "\n",
    "\n",
    "\n"
   ]
  },
  {
   "cell_type": "markdown",
   "id": "4723ad6b",
   "metadata": {},
   "source": [
    "> Are the out degree and in degree you computed from the association matrix consistent with the graph in Figure 1?    \n",
    "> **End of exercise.**"
   ]
  },
  {
   "cell_type": "markdown",
   "id": "edb63780",
   "metadata": {},
   "source": [
    "> **Answer:**     "
   ]
  },
  {
   "cell_type": "markdown",
   "id": "e1fc5fd8",
   "metadata": {},
   "source": [
    "### Apply Simple Page Rank\n",
    "\n",
    "The normalized transition probability matrix, $M$, is then computed from the association matrix, $A$: \n",
    "\n",
    "$$M = A D^{-1}$$\n",
    "\n",
    "Where, $D^{-1}$ is the inverse of a matrix with the out degree values on the diagonal and zeros elsewhere.  \n",
    "\n",
    "You can see from the foregoing that $M$ distributes the influence of the page by the in|verse of the out degree. In other words, the influence is inversely weighted by the number of pages each page links to. "
   ]
  },
  {
   "cell_type": "markdown",
   "id": "2cd99dfa",
   "metadata": {},
   "source": [
    "> **Exercise 04-2:** You will now compute the normalized transition matrix, $M$. To do so create a function called `norm_association` with the association matrix as the argument. Do the following: \n",
    "> 1. Create your function `norm_association` which will do the following:  \n",
    ">    - Compute the sum of the columns of the association matrix using `numpy.sum` with the `axis=0` argument to sum along columns. \n",
    ">   - Compute the inverse of the column sums as a vector. Be sure to avoid zero divides, which will occur in subsequent exercises. If the column sum is 0 set the inverse to zero.   \n",
    ">   - Create a square diagonal matrix from the inverse column sums using [numpy.diag](https://numpy.org/doc/stable/reference/generated/numpy.diag.html) to form the inverse out degree diagonal matrix.\n",
    ">  - Finally, return the matrix product of the association matrix and the (diagonal) inverse out degree matrix using [numpy.matmul](https://numpy.org/doc/stable/reference/generated/numpy.matmul.html).  \n",
    "> 2. Save and print the normalized transition matrix.  \n",
    "> 3. Compute and print the column sums of the normalized transition matrix to ensure they all add to 1.0. \n",
    "> Execute the code you have created and examine the results. "
   ]
  },
  {
   "cell_type": "code",
   "execution_count": 15,
   "id": "5f24b853",
   "metadata": {},
   "outputs": [
    {
     "name": "stdout",
     "output_type": "stream",
     "text": [
      "[[0.         0.33333333 0.         0.5        0.        ]\n",
      " [0.33333333 0.         0.         0.         0.        ]\n",
      " [0.33333333 0.         0.         0.         0.        ]\n",
      " [0.33333333 0.33333333 0.5        0.         1.        ]\n",
      " [0.         0.33333333 0.5        0.5        0.        ]]\n",
      "The column sums = [1. 1. 1. 1. 1.]\n"
     ]
    }
   ],
   "source": [
    "def norm_association(A):\n",
    "    '''Function to normalize the association matrix by out degree.\n",
    "    The function accounts for cases where the column sum is 0'''\n",
    "    ## Put your code below\n",
    "    \n",
    "    \n",
    "    \n",
    "    \n",
    "\n",
    "## Execute the function and check the column sums\n",
    "M = norm_association(A)\n",
    "print(M) \n",
    "print(f\"The column sums = {np.sum(M, axis=0)}\")"
   ]
  },
  {
   "cell_type": "markdown",
   "id": "226c5d12",
   "metadata": {},
   "source": [
    "> Provide short answers to the following questions:     \n",
    "> 1. Do the number of non-zero values in each column match the out degree for the corresponding node?     \n",
    "> 2. Are all the column sums 1.0, and why is this required for a transition probability matrix.    \n",
    "> **End of exercise.**"
   ]
  },
  {
   "cell_type": "markdown",
   "id": "7f3fb131",
   "metadata": {},
   "source": [
    "> **Answers:**  \n",
    "> 1.        \n",
    "> 2.     "
   ]
  },
  {
   "cell_type": "markdown",
   "id": "c15a3d18",
   "metadata": {},
   "source": [
    "### Computing the Simple Page Rank\n",
    "\n",
    "With the transition probability matrix, $M$ computed it is time to investigate the convergence of the PageRank algorithm. You can think of the PageRank algorithm as a series of transitions of a Markov Chain. Given the transition probability matrix, $M$, the update, or single Markov transition, of the page probabilities, $p_i$, is computed: \n",
    "\n",
    "$$p_i = M p_{i-1}$$\n",
    "\n",
    "The Markov chain can be executed for a great many transitions. The result of $n$ transitions, starting from an initial set of page probabilities, $p_0$, can be written:  \n",
    "\n",
    "$$p_n = M^n p_{0}$$\n",
    "\n",
    "At convergence the page probabilities, $p_n$, approach a constant or **steady state** value. This steady state probability vector values are the PageRank of the web pages.  "
   ]
  },
  {
   "cell_type": "markdown",
   "id": "7da47d2b",
   "metadata": {},
   "source": [
    "> **Exercise 04-3:** You will now create and execute code with the goal of getting a feel for how the page probabilities change for a single transition of a Markov process. The accomplish this task you will create a function called `transition` with arguments of the the normalized transition probability matrix and the vector of page probabilities. Specifically you will:   \n",
    "> 1. Create the function `transition` which uses [numpy.dot](https://numpy.org/doc/stable/reference/generated/numpy.dot.html) to compute the product of the transition matrix and the page probability vector.  \n",
    "> 2. Execute the `transition` function on the normalized transition probability matrix and vector of initial page probabilities you have created, saving the result. \n",
    "> 3. Print the Euclidean (L2) norm of the difference between the initial page probabilities and the updated page probabilities. \n",
    "> 4. Print the sum of the page probabilities computed with `transition` along with the actual vector of values. "
   ]
  },
  {
   "cell_type": "code",
   "execution_count": 21,
   "id": "83e71abd",
   "metadata": {},
   "outputs": [
    {
     "name": "stdout",
     "output_type": "stream",
     "text": [
      "Initial state probabilities: [0.2, 0.2, 0.2, 0.2, 0.2]\n",
      "The norm of the diference = 0.30912061651652345\n",
      "The sum of the PageRanks = 1.0\n",
      "State probabilities: [0.16666667 0.06666667 0.06666667 0.43333333 0.26666667]\n"
     ]
    }
   ],
   "source": [
    "## Define intial PageRank (probability) vector\n",
    "p = [1/M.shape[1]]*M.shape[1]\n",
    "print('Initial state probabilities: ' + str(p))\n",
    "\n",
    "def transition(transition_probs, probs):\n",
    "    '''Function to compute the probabilities resulting from a \n",
    "    single transition of a Markov process'''\n",
    "    ## Put your code below\n",
    "    \n",
    "    \n",
    "\n",
    "## Compute probabilities after first state trasnition and print the sumamries\n",
    "p1 = transition(M, p)\n",
    "print(f\"The norm of the diference = {np.linalg.norm(np.subtract(p,p1))}\")\n",
    "print(f\"The sum of the PageRanks = {np.sum(p1)}\")\n",
    "print('State probabilities: ' + str(p1))"
   ]
  },
  {
   "cell_type": "markdown",
   "id": "63564579",
   "metadata": {},
   "source": [
    "> Provide short answers to the following questions:   \n",
    "> 1. Is the sum of the page probabilities equal to 1.0 as it should be?       \n",
    "> 2. Considering in degree of the pages, are the relative changes in the page probabilities what you would expect and why.  \n",
    "> **End of exercise.**"
   ]
  },
  {
   "cell_type": "markdown",
   "id": "8594649a",
   "metadata": {},
   "source": [
    "> **Answers:**    \n",
    "> 1.       \n",
    "> 2.     "
   ]
  },
  {
   "cell_type": "markdown",
   "id": "3434f366",
   "metadata": {},
   "source": [
    "> **Exercise 04-4:** You will continue with computing transitions of the Markov chain. Use the `transition` function with the normalized transition probability matrix and the page probability vector computed from the first transition as arguments. Your code must do the following:  \n",
    "> 1. Compute the resulting page probabilities of the second transition.\n",
    "> 2. Compute and print the Euclidean (L2) norm of the difference between the page probabilities before and after the transition. \n",
    "> 3. Compute and print the sum of the page probabilities. \n",
    "> 4. Display the page probabilities. "
   ]
  },
  {
   "cell_type": "code",
   "execution_count": 22,
   "id": "ed8d76cb",
   "metadata": {},
   "outputs": [
    {
     "name": "stdout",
     "output_type": "stream",
     "text": [
      "0.09262962222518371\n",
      "1.0\n",
      "State probabilities: [0.23888889 0.05555556 0.05555556 0.37777778 0.27222222]\n"
     ]
    }
   ],
   "source": [
    "# Compute probabilities after second state transition\n",
    "## Put your code below\n",
    "\n",
    "\n",
    "\n"
   ]
  },
  {
   "cell_type": "markdown",
   "id": "b94bda45",
   "metadata": {},
   "source": [
    "> Note the difference between the Euclidean norms of the differences for the first and second transition calculations. Does the change in this difference from one step to the next indicate the algorithm is converging to the steady state probabilities?  \n",
    "> **End of exercise.**"
   ]
  },
  {
   "cell_type": "markdown",
   "id": "52960810",
   "metadata": {},
   "source": [
    "> **Answer:**    "
   ]
  },
  {
   "cell_type": "markdown",
   "id": "6cfc9527",
   "metadata": {},
   "source": [
    "> **Exercise 04-5:** The question now is how does this simplified version of page rank converge with more iterations? To find out, do the following:   \n",
    "> 1. Create a function `pagerank1` with arguments, the normalized transition matrix, the initial page probabilities and a convergence threshold value of 0.01, which does the following:  \n",
    ">    - Initialize a euclidean distance norm variable to 1.0 and the resulting page probabilities to a vector of 0.0 values of length equal to the dimension of the transition matrix.   \n",
    ">    - Set a loop counter to 1.  \n",
    ">    - Use a 'while' loop with termination conditions the euclidean distance norm less than the threshold value AND the loop counter less than 50.  Inside this loop do the following:  \n",
    ">      1. Update the page probabilities using the `transition` function you created. \n",
    ">      2. Compute the Euclidean norm of the difference between the previous and the updated page probabilities following the transition.   \n",
    ">      3. Print the value of the loop counter and the Euclidean norm of the difference. \n",
    ">      4. Copy the updated page probability vector into the input page probability vector.  \n",
    ">      5. Increment the loop counter by 1. \n",
    ">    - Return the page probabilities at convergence.  \n",
    "> 2. Execute your `pagerank1` function using the transition matrix and initial page probability vector. "
   ]
  },
  {
   "cell_type": "code",
   "execution_count": 24,
   "id": "b64228ab",
   "metadata": {},
   "outputs": [
    {
     "name": "stdout",
     "output_type": "stream",
     "text": [
      "Iteration 1 Euclidean distance = 0.30912061651652345\n",
      "Iteration 2 Euclidean distance = 0.09262962222518371\n",
      "Iteration 3 Euclidean distance = 0.0627447198003608\n",
      "Iteration 4 Euclidean distance = 0.04713034716117629\n",
      "Iteration 5 Euclidean distance = 0.04044983066499079\n",
      "Iteration 6 Euclidean distance = 0.034751469502374295\n",
      "Iteration 7 Euclidean distance = 0.02965169022900917\n",
      "Iteration 8 Euclidean distance = 0.025297173726972686\n",
      "Iteration 9 Euclidean distance = 0.021602992445622173\n",
      "Iteration 10 Euclidean distance = 0.018452365792341184\n",
      "Iteration 11 Euclidean distance = 0.01575978617875431\n",
      "Iteration 12 Euclidean distance = 0.013459509556315313\n",
      "Iteration 13 Euclidean distance = 0.011495031885715244\n",
      "Iteration 14 Euclidean distance = 0.00981734526591825\n",
      "Final state probabilities: [0.21890828 0.07149265 0.07149265 0.38258726 0.25551917]\n"
     ]
    }
   ],
   "source": [
    "# Compute probabilities after a larger number of state transitions \n",
    "def pagerank1(M, in_probs,  threshold = 0.01):  \n",
    "    euclidean_dist = 1.0 \n",
    "    page_probabilities = np.array([0.0]*len(M))\n",
    "    i = 1   \n",
    "    ## Put your code below\n",
    "\n",
    "    \n",
    "    \n",
    "    \n",
    "    \n",
    "    return page_probabilities    \n",
    "\n",
    "## Execute your function\n",
    "print('Final state probabilities: ' + str(pagerank1(M,p)))"
   ]
  },
  {
   "cell_type": "markdown",
   "id": "0caeedfd",
   "metadata": {},
   "source": [
    "> Provide short answers for the following questions:  \n",
    "> 1. Judged from the rate of decline of the Euclidean distances, does the algorithm appear to converge rapidly and why? \n",
    "> 2.  Does the rank order of the computed page probabilities make sense given the relative degree of the pages of the directed graph? \n",
    "> **End of exercise.**"
   ]
  },
  {
   "cell_type": "markdown",
   "id": "0e95b5c5",
   "metadata": {},
   "source": [
    "> **Answers:**   \n",
    "> 1.       \n",
    "> 2.    "
   ]
  },
  {
   "cell_type": "markdown",
   "id": "aee2af4a",
   "metadata": {},
   "source": [
    "### Page Rank by Eigendecomposition\n",
    "\n",
    "Consider the relationship:     \n",
    "\n",
    "$$p_i = M p_{i-1}$$      \n",
    "\n",
    "At convergence $p_i = p_{i-1}$ which suggest an eigenvalue-eigenvector problem for some eigenvalue, $\\lambda$:    \n",
    "\n",
    "$$\\lambda p^* = M p^*$$  \n",
    "\n",
    "For the transition probability matrix with normalized columns, the largest eigenvalue has a magnitude 1.0. The eigenvector associated with this eigenvalue is the PageRank vector. To demonstrate this point, the code in the cell below does the following:     \n",
    "1. Compute the eigendecomposition using [numpy.linalg.eig](https://numpy.org/doc/stable/reference/generated/numpy.linalg.eig.html).     \n",
    "2. Print the magnitude of the eigenvalues.  \n",
    "3. Get the eigenvector associated with the first, largest, eigenvalue.     \n",
    "4. Normalize the eigenvector so the values sum to 1.0 and display the results.    "
   ]
  },
  {
   "cell_type": "code",
   "execution_count": 25,
   "id": "2ed1809f",
   "metadata": {},
   "outputs": [
    {
     "name": "stdout",
     "output_type": "stream",
     "text": [
      "The magnitude of the eigenvalues = [1.00000000e+00 8.54050825e-01 3.12368706e-01 3.12368706e-01\n",
      " 3.62479660e-17]\n",
      "Final state probabilities: [0.21686747 0.07228916 0.07228916 0.38554217 0.25301205]\n"
     ]
    }
   ],
   "source": [
    "eigvals, eigvecs = np.linalg.eig(M)\n",
    "print(f\"The magnitude of the eigenvalues = {np.abs(eigvals)}\")\n",
    "largest_eigvec = np.abs(eigvecs[:,0])\n",
    "p_final = np.divide(largest_eigvec, np.sum(largest_eigvec))\n",
    "print('Final state probabilities: ' + str(p_final))"
   ]
  },
  {
   "cell_type": "markdown",
   "id": "752fb6f7",
   "metadata": {},
   "source": [
    "> **Exercise 04-06:** Do the PageRanks computed by the two methods agree to the precision expected with the iterative method?    \n",
    "> **End of exercise.**"
   ]
  },
  {
   "cell_type": "markdown",
   "id": "cce9b1eb",
   "metadata": {},
   "source": [
    "> **Answer:**     "
   ]
  },
  {
   "cell_type": "markdown",
   "id": "a1959889",
   "metadata": {},
   "source": [
    "## A More Complicated Example   \n",
    "\n",
    "You will now work with a more complicated example The graph of 6 web pages, shown in Figure 2, is no longer complete. The out degree of page 6 is 0. A random surfer transitioning to page 6 will have no escape, a **spider trap**! \n",
    "\n",
    "<img src=\"../images/Web2.png\" alt=\"Drawing\" style=\"width:500px; height:500px\"/>\n",
    "<center>Figure 3: A small set of web pages with a dead end</center>"
   ]
  },
  {
   "cell_type": "markdown",
   "id": "d4a4270c",
   "metadata": {},
   "source": [
    "> **Exercise 04-7:** You will now create both the normalized transition matrix and the initial page probability vector for the graph of Figure 3. In this exercise you will . Do the following:  \n",
    "> 1. Create the association matrix and normalize it using your `norm_association` function. Name your transition matrix `M_deadend`. Print the result. \n",
    "> 2. Create a vector of containing the normalized uniform distributed initial values. Save and print the result.   "
   ]
  },
  {
   "cell_type": "code",
   "execution_count": 8,
   "id": "82db4316",
   "metadata": {},
   "outputs": [
    {
     "name": "stdout",
     "output_type": "stream",
     "text": [
      "[[0.         0.33333333 0.         0.5        0.         0.        ]\n",
      " [0.25       0.         0.         0.         0.         0.        ]\n",
      " [0.25       0.         0.         0.         0.         0.        ]\n",
      " [0.25       0.33333333 0.33333333 0.         1.         0.        ]\n",
      " [0.         0.33333333 0.33333333 0.5        0.         0.        ]\n",
      " [0.25       0.         0.33333333 0.         0.         0.        ]]\n",
      "[0.16666667 0.16666667 0.16666667 0.16666667 0.16666667 0.16666667]\n"
     ]
    }
   ],
   "source": [
    "## Create the Association Matrix\n",
    "## Put your code below\n",
    "\n",
    "\n",
    "\n",
    "\n",
    "\n",
    "## Normalize the association matrix\n",
    "## Put your code below\n",
    "\n",
    "print(M_deadend)\n",
    "\n",
    "## Create the equal probability starting values\n",
    "## Put your code below\n",
    "\n"
   ]
  },
  {
   "cell_type": "markdown",
   "id": "210965cd",
   "metadata": {},
   "source": [
    "> Examine your results. Are the 0 values for the transition probabilities of page 6 consistent with the graph of these pages? and why?      \n",
    "> **End of exercise.**     "
   ]
  },
  {
   "cell_type": "markdown",
   "id": "05e70927",
   "metadata": {},
   "source": [
    "> **Answers:**     "
   ]
  },
  {
   "cell_type": "markdown",
   "id": "3fab8ae8",
   "metadata": {},
   "source": [
    "### Apply Simple PageRank Algorithm\n",
    "\n",
    "> **Exercises 04-8:** What happens if you apply the simplified PageRank algorithm to the pages on a graph that is not complete, like the one shown in Figure 2? To find out, execute your `pagerank1` function with arguments `M_deadend`, `p_deadend` and `threshold=0.00001`. The smaller threshold value is to ensure convergence. "
   ]
  },
  {
   "cell_type": "code",
   "execution_count": 9,
   "id": "dc2a2658",
   "metadata": {},
   "outputs": [
    {
     "name": "stdout",
     "output_type": "stream",
     "text": [
      "Iteration 1 Euclidean distance = 0.24689428936987745\n",
      "Iteration 2 Euclidean distance = 0.087290313124837\n",
      "Iteration 3 Euclidean distance = 0.05112283061425409\n",
      "Iteration 4 Euclidean distance = 0.040902112934503264\n",
      "Iteration 5 Euclidean distance = 0.03330965740599665\n",
      "Iteration 6 Euclidean distance = 0.0315625664858363\n",
      "Iteration 7 Euclidean distance = 0.02559781956037353\n",
      "Iteration 8 Euclidean distance = 0.024309802780145634\n",
      "Iteration 9 Euclidean distance = 0.020108336170986056\n",
      "Iteration 10 Euclidean distance = 0.019211686938674855\n",
      "Iteration 11 Euclidean distance = 0.016185076011934068\n",
      "Iteration 12 Euclidean distance = 0.015480019371330162\n",
      "Iteration 13 Euclidean distance = 0.01326780749245994\n",
      "Iteration 14 Euclidean distance = 0.012663894730572493\n",
      "Iteration 15 Euclidean distance = 0.011017095534036453\n",
      "Iteration 16 Euclidean distance = 0.0104759911826907\n",
      "Iteration 17 Euclidean distance = 0.009226369237005644\n",
      "Iteration 18 Euclidean distance = 0.008734354786517063\n",
      "Iteration 19 Euclidean distance = 0.007768416344424052\n",
      "Iteration 20 Euclidean distance = 0.00732165412469536\n",
      "Iteration 21 Euclidean distance = 0.006562380307895495\n",
      "Iteration 22 Euclidean distance = 0.006159913350301158\n",
      "Iteration 23 Euclidean distance = 0.0055543616131291645\n",
      "Iteration 24 Euclidean distance = 0.005195271679900301\n",
      "Iteration 25 Euclidean distance = 0.0047064012956031746\n",
      "Iteration 26 Euclidean distance = 0.004388951992987616\n",
      "Iteration 27 Euclidean distance = 0.00399031384946938\n",
      "Iteration 28 Euclidean distance = 0.003711925744238664\n",
      "Iteration 29 Euclidean distance = 0.003384225395864782\n",
      "Iteration 30 Euclidean distance = 0.003141728375935038\n",
      "Iteration 31 Euclidean distance = 0.0028705912118335256\n",
      "Iteration 32 Euclidean distance = 0.0026605144569068185\n",
      "Iteration 33 Euclidean distance = 0.002435017209915368\n",
      "Iteration 34 Euclidean distance = 0.00225382940808235\n",
      "Iteration 35 Euclidean distance = 0.0020655211357826753\n",
      "Iteration 36 Euclidean distance = 0.0019098010349052166\n",
      "Iteration 37 Euclidean distance = 0.0017520391506812042\n",
      "Iteration 38 Euclidean distance = 0.0016185828686854043\n",
      "Iteration 39 Euclidean distance = 0.0014860743190327323\n",
      "Iteration 40 Euclidean distance = 0.0013719535875059037\n",
      "Iteration 41 Euclidean distance = 0.0012604315181295625\n",
      "Iteration 42 Euclidean distance = 0.0011630171484023626\n",
      "Iteration 43 Euclidean distance = 0.0010690084872142743\n",
      "Iteration 44 Euclidean distance = 0.0009859708571692976\n",
      "Iteration 45 Euclidean distance = 0.0009066259528656308\n",
      "Iteration 46 Euclidean distance = 0.0008359213632452458\n",
      "Iteration 47 Euclidean distance = 0.000768886738989129\n",
      "Iteration 48 Euclidean distance = 0.0007087358855864253\n",
      "Iteration 49 Euclidean distance = 0.0006520574976252102\n"
     ]
    },
    {
     "data": {
      "text/plain": [
       "array([0.00331205, 0.00089962, 0.00089962, 0.00550268, 0.00363752,\n",
       "       0.00122509])"
      ]
     },
     "execution_count": 9,
     "metadata": {},
     "output_type": "execute_result"
    }
   ],
   "source": [
    "## Put your code below\n"
   ]
  },
  {
   "cell_type": "markdown",
   "id": "6380ffe4",
   "metadata": {},
   "source": [
    "> Now, create and execute code to compute and display the eigenvalues and eigenvectors of the `M_deadend`. Then display the magnitudes of the eigenvalues, and the normalized values of the first eigenvalue (column 0).    "
   ]
  },
  {
   "cell_type": "code",
   "execution_count": 28,
   "id": "878b096e",
   "metadata": {},
   "outputs": [
    {
     "name": "stdout",
     "output_type": "stream",
     "text": [
      "The magnitude of the eigenvalues = [0.00000000e+00 9.20850965e-01 8.17762738e-01 6.64682210e-17\n",
      " 2.35226392e-01 2.35226392e-01]\n",
      "Final state probabilities: [0. 0. 0. 0. 0. 1.]\n"
     ]
    }
   ],
   "source": [
    "\n",
    "\n",
    "\n"
   ]
  },
  {
   "cell_type": "markdown",
   "id": "e59ad36a",
   "metadata": {},
   "source": [
    "> Answer the following questions:  \n",
    "> 1. Examine the page probabilities computed with the iterative methods. Do these PageRank values sum to 1.0 and why is this outcome a problem?       \n",
    "> 2. Examine the eigenvalues of the `M_deadend` matrix. What problem can you see with these eigenvalues? \n",
    "> 3. Notice the PageRank values have only one nonzero value of 1.0. What does this tell you about the convergence of a random surfer on this graph?             \n",
    "> **End of exercise.**"
   ]
  },
  {
   "cell_type": "markdown",
   "id": "87a35139",
   "metadata": {},
   "source": [
    "> **Answers:**   \n",
    "> 1.      \n",
    "> 2.    \n",
    "> 3.     "
   ]
  },
  {
   "cell_type": "markdown",
   "id": "b2a48973",
   "metadata": {},
   "source": [
    "### Damped PageRank Algorithm\n",
    "\n",
    "It is clear from the results of the foregoing exercise that the simple PageRank algorithm does not converge to a usable set of page probabilities when faced with graph that is not complete.Fortunately, there is a simple fix, add a damping term. You can think of the damping term as allowing a random surfer to make an arbitrary transition or jump with some small probability. These random jumps help the random surfer to better explore the graph and to escape from spider traps. The jump probabilities from states, $p_i$, are a function of the damping factor $d$: \n",
    "\n",
    "$$Jump\\ Probability = \\frac{(1-d)}{n}$$\n",
    "\n",
    "Where $n$ is the dimension of the transition probability matrix. \n",
    "\n",
    "The updated page probabilities, $p_i$, are then computed with the damped PageRank algorithm as:   \n",
    "\n",
    "$$p_{i} = d * M p_{i-1} + \\frac{(1-d)}{n}$$\n",
    "\n",
    "Where $M$ is the transition probability matrix and p are the initial page probability values.   "
   ]
  },
  {
   "cell_type": "markdown",
   "id": "f4cf21d2",
   "metadata": {},
   "source": [
    "> **Exercise 04-9:** To implement the PageRank algorithm with a damping factor do the following:  \n",
    "> 1. Create a `transition_damped` function with arguments, the transition probability matrix, the initial page probabilities, and the damping factor, $d=0.85$, which does the following:  \n",
    ">   - Compute the updated page probabili|ties by computing the inner (dot) product of the transition probability matrix with the page probabilities and then multiplying by the damping factor, `d`. Use the [numpy.multiply](https://numpy.org/doc/stable/reference/generated/numpy.multiply.html) and numpy.dot functions.\n",
    ">   - Compute the jump probabilities vector of length the dimension of the transition matrix. Note: the jump probabilities are constant, so you can create code that only computes them once if you so choose.      \n",
    ">   - Return the sum of the damped page probabilities and the jump probabilities.  \n",
    "> 2. Create a `pagerank_damped` function. This function is identical to the `pagerank1` function you already created except that it uses the `transiton_damped` function in place of the `transition` function.  \n",
    "> 3. Call your `pagerank_damped` function using arguments of `M_deadend`, `p_deadend` and `threshold=0.0001` and display the final PageRank vector.\n",
    "> . Compute and display the sum of the values in the PageRank vector."
   ]
  },
  {
   "cell_type": "code",
   "execution_count": 30,
   "id": "ca90f6a8",
   "metadata": {},
   "outputs": [
    {
     "name": "stdout",
     "output_type": "stream",
     "text": [
      "Iteration 1 Euclidean distance = 0.20986014596439584\n",
      "Iteration 2 Euclidean distance = 0.06306725123269477\n",
      "Iteration 3 Euclidean distance = 0.03139580835097885\n",
      "Iteration 4 Euclidean distance = 0.021351158590016534\n",
      "Iteration 5 Euclidean distance = 0.014779671948595703\n",
      "Iteration 6 Euclidean distance = 0.011903806662015098\n",
      "Iteration 7 Euclidean distance = 0.00820607446101341\n",
      "Iteration 8 Euclidean distance = 0.006624190923157969\n",
      "Iteration 9 Euclidean distance = 0.004657431418759879\n",
      "Iteration 10 Euclidean distance = 0.003782289422432075\n",
      "Iteration 11 Euclidean distance = 0.002708463119200028\n",
      "Iteration 12 Euclidean distance = 0.002201905155879966\n",
      "Iteration 13 Euclidean distance = 0.0016041508134111762\n",
      "Iteration 14 Euclidean distance = 0.0013014642764348334\n",
      "Iteration 15 Euclidean distance = 0.0009623897771396277\n",
      "Iteration 16 Euclidean distance = 0.0007778537247141952\n",
      "Iteration 17 Euclidean distance = 0.0005823077471832664\n",
      "Iteration 18 Euclidean distance = 0.00046856677626462757\n",
      "Iteration 19 Euclidean distance = 0.0003542354997401889\n",
      "Iteration 20 Euclidean distance = 0.00028378388063619327\n",
      "Iteration 21 Euclidean distance = 0.00021620156600241446\n",
      "Iteration 22 Euclidean distance = 0.00017250074252728357\n",
      "Iteration 23 Euclidean distance = 0.0001322115638380598\n",
      "Iteration 24 Euclidean distance = 0.00010511446409583623\n",
      "Iteration 25 Euclidean distance = 8.093979456998668e-05\n",
      "Sum of the PageRank values = 0.627947020127541\n",
      "Final state probabilities: [0.12362195 0.05127795 0.05127795 0.19780693 0.13815311 0.06580912]\n"
     ]
    }
   ],
   "source": [
    "## Add a damping facgtor to the transiton \n",
    "def transition_damped(transition_probs, probs, d=0.85):\n",
    "    '''Function to compute the probabilities resulting from a \n",
    "    single transition of a Markov process including a damping\n",
    "    factor to deal with dead ends'''\n",
    "    ## Put your code below\n",
    "    \n",
    "    \n",
    "    \n",
    "    return out\n",
    "\n",
    "## function for the PageRank algorithm using the damped transition algorithm \n",
    "def pagerank_damped(M, in_probs,  threshold = 0.01):  \n",
    "    euclidean_dist = 1.0 \n",
    "    page_probabilities = np.array([0.0]*len(M))\n",
    "    i = 1\n",
    "    ## Put your code below\n",
    "   \n",
    "\n",
    "\n",
    "\n",
    "    return page_probabilities    \n",
    "\n",
    "## Execute your funciton\n",
    "damped_rank = pagerank_damped(M_deadend,p_deadend,threshold=0.0001)\n",
    "print(f\"Sum of the PageRank values = {sum(damped_rank)}\")\n",
    "print('Final state probabilities: ' + str(damped_rank))"
   ]
  },
  {
   "cell_type": "markdown",
   "id": "b4abd795",
   "metadata": {},
   "source": [
    "> Provide short answers to the following questions:   \n",
    "> 1. Examine the final page probabilities. Does the rank of these page probabilities make sense given the in degree of graph of the pages in this case?   \n",
    "> 2. Why is it reasonable for the sum of these PageRank probabilities to be less than 1.0?           \n",
    "> **End of exercise.**"
   ]
  },
  {
   "cell_type": "markdown",
   "id": "c7927665",
   "metadata": {},
   "source": [
    "> **Answers:**     \n",
    "> 1.      \n",
    "> 2.     "
   ]
  },
  {
   "cell_type": "markdown",
   "id": "a070f23d",
   "metadata": {},
   "source": [
    "## Hubs, Authorities, and the HITS Algorithm  \n",
    "\n",
    "The hubs and authorities model is an alternative to PageRank. Rather than using a single metric to rank the importance of web pages, the **HITS** algorithm iteratively updates the hub and authority scores for each of the pages. \n",
    "\n",
    "The HITS algorithm updates the authority and hub scores iteratively. The authority score is sum of the hubs linked to it. This is computed by the matrix product of the association matrix and hubness vector: \n",
    "$$𝑎= \\beta 𝐴 ℎ$$\n",
    "\n",
    "Hub score is sum of the authorities it links to. The hub score (hubness) is compute by the matrix produce of the authority scores and the transpose of the association matrix: \n",
    "$$ℎ= \\alpha 𝐴^𝑇 a$$\n",
    "\n",
    "The algorithm iterates between updates to $𝑎$ and $ℎ$ until convergence. To ensure convergence, must normalize $𝑎$ and $ℎ$ to have unit Euclidean norm at each iteration. Therefore, the choice of $\\alpha$ and $\\beta$ are can therefore be set to a value of 1.0, and effectively ignored.       "
   ]
  },
  {
   "cell_type": "markdown",
   "id": "57d9ff8d",
   "metadata": {},
   "source": [
    "> **Exercise 04-10:** To understand the HITS algorithm you will now create and test code for this algorithm. Follow these steps:  \n",
    "> 1. Create a function called `HITS` with arguments of the association matrix, initial hub vector, initial authority vector, and the number of iterations of the algorithm to run. This function does the following:   \n",
    ">  - Inside a for loop over the number of iterations:  \n",
    ">    1. Updates the authority vector using the association matrix and the hub vector as argument to the `transition` function. \n",
    ">    2. Normalizes the authority vector by using `numpy.divide` with arguments of the updated authority vector and its L2 norm, computed with [numpy.linalg.norm](https://numpy.org/doc/stable/reference/generated/numpy.linalg.norm.html).  \n",
    ">    3. Updates the hub vector using the association matrix and the authority vector as argument to the `transition` function. \n",
    ">    4. Normalizes the hub vector by using `numpy.divide` with arguments of the updated hub vector and its L2 norm, computed with `numpy.linalg.norm`.  \n",
    ">   - Return the hub and authority vectors\n",
    "> 2. Initialize an initial hub and authority vector of length the dimension of the association matrix with uniformly distributed values of $\\frac{1.0}{dimension(association\\ matrix)}$.  \n",
    "> 3. Execute your function using the association matrix for the 6-page network and the initial hub and authority vectors as arguments. "
   ]
  },
  {
   "cell_type": "code",
   "execution_count": 12,
   "id": "b5426080",
   "metadata": {},
   "outputs": [
    {
     "name": "stdout",
     "output_type": "stream",
     "text": [
      "The hub ranks = [0.51721531 0.5267355  0.56154289 0.28553154 0.24120396 0.        ]\n",
      "The authority ranks = [0.29355748 0.18692427 0.18692427 0.66740602 0.49650196 0.38986875]\n"
     ]
    }
   ],
   "source": [
    "def HITS(association, hub, authority, iters=100):\n",
    "    ## Put your code below\n",
    "   \n",
    "\n",
    "\n",
    "\n",
    "\n",
    "    return hub, authority \n",
    "\n",
    "## Compute the intial hub and authority vectors\n",
    "n_row  = A_deadend.shape[0]\n",
    "auth_start  = hub_start = np.array([1.0/n_row]*n_row)\n",
    "\n",
    "## Execute your funciton\n",
    "hubness, authority = HITS(A_deadend, hub_start, auth_start)\n",
    "print(f\"The hub ranks = {hubness}\")\n",
    "print(f\"The authority ranks = {authority}\")"
   ]
  },
  {
   "cell_type": "markdown",
   "id": "95066c88",
   "metadata": {},
   "source": [
    "> Examine your results and answer the following questions:\n",
    "> 1. Which three of the pages have the highest hub scores? Considering the graph of the pages, is this ordering consistent?  \n",
    "> 2. Notice the last value of the hub scores. Is this value expected given the graph of the pages? \n",
    "> 3. Which three of the pages have the highest authority. Given the in degree of the pages is this ranking consistent?  \n",
    "> 4. Compare the ranking of the pages based on authority that found with damped PageRank. Are these results consistent? \n",
    "> **End of exercise.**"
   ]
  },
  {
   "cell_type": "markdown",
   "id": "08eb85c2",
   "metadata": {},
   "source": [
    "> **Answers:**     \n",
    "> 1.      \n",
    "> 2.     \n",
    "> 3.      \n",
    "> 4.   "
   ]
  },
  {
   "cell_type": "markdown",
   "id": "f99ee12d",
   "metadata": {},
   "source": [
    "#### Copyright 2021, 2022, Stephen F Elston. All rights reserved."
   ]
  }
 ],
 "metadata": {
  "kernelspec": {
   "display_name": "Python 3 (ipykernel)",
   "language": "python",
   "name": "python3"
  },
  "language_info": {
   "codemirror_mode": {
    "name": "ipython",
    "version": 3
   },
   "file_extension": ".py",
   "mimetype": "text/x-python",
   "name": "python",
   "nbconvert_exporter": "python",
   "pygments_lexer": "ipython3",
   "version": "3.11.0"
  }
 },
 "nbformat": 4,
 "nbformat_minor": 5
}
